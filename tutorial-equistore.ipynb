{
 "cells": [
  {
   "cell_type": "markdown",
   "metadata": {},
   "source": [
    "<center><h1>Introduction to Equistore</h1></center>\n",
    "\n",
    "This document present [equistore](https://github.com/lab-cosmo/equistore), a\n",
    "format for data exchange between atomistic machine learning software. We will go\n",
    "over the basics of this format, and how one can exploit the metadata to simplify\n",
    "building complex models.\n",
    "\n",
    "You can install all the dependency used in this tutorial with pip:\n",
    "\n",
    "```\n",
    "pip install -r requirements.txt\n",
    "```"
   ]
  },
  {
   "cell_type": "markdown",
   "metadata": {},
   "source": [
    "# Exploring an equivariant representation: the spherical expansion\n",
    "\n",
    "One of the simplest equivariant representation is the SOAP spherical expansion. It is built by representing atoms as multiple atomic density (one per species $\\alpha$) $\\braket{r|\\rho_i^\\alpha}$, and then expanding this density on a set of radial and angular basis functions: $\\braket{n l m |\\rho_i^\\alpha}$. \n",
    "\n",
    "See the [\"Efficient implementation of atom-density representations\"](https://aip.scitation.org/doi/10.1063/5.0044689) article or the [\"Physics-Inspired Structural Representations for Molecules and Materials\"](https://pubs.acs.org/doi/10.1021/acs.chemrev.1c00021) review for more information on the\n",
    "spherical expansion and SOAP."
   ]
  },
  {
   "cell_type": "markdown",
   "metadata": {},
   "source": [
    "In this tutorial, we will use [rascaline](https://github.com/Luthaf/rascaline/)\n",
    "to compute the spherical expansion. Rascaline is a prototype library to compute\n",
    "SOAP and related representations directly using the equistore format, but is not\n",
    "required at all when using equistore!\n",
    "\n",
    "On the contrary, one of the explicit goal of equistore is to be useable as a\n",
    "standalone tool, and integrate well with different libraries."
   ]
  },
  {
   "cell_type": "code",
   "execution_count": 46,
   "metadata": {},
   "outputs": [],
   "source": [
    "import numpy as np\n",
    "import matplotlib.pyplot as plt\n",
    "\n",
    "import rascaline\n",
    "import equistore\n",
    "import equistore.io\n",
    "\n",
    "import ase.io"
   ]
  },
  {
   "cell_type": "markdown",
   "metadata": {},
   "source": [
    "We will use a small dataset of water molecules, containing information about the energy and forces of each structure"
   ]
  },
  {
   "cell_type": "code",
   "execution_count": 47,
   "metadata": {},
   "outputs": [],
   "source": [
    "structures = ase.io.read(\"data/water-dipoles.xyz\", \":10\")"
   ]
  },
  {
   "cell_type": "markdown",
   "metadata": {},
   "source": [
    "Let's use rascaline to compute the spherical expansion, and get the\n",
    "representation of all these structures"
   ]
  },
  {
   "cell_type": "code",
   "execution_count": 75,
   "metadata": {},
   "outputs": [],
   "source": [
    "# see https://luthaf.fr/rascaline/ for the documentation of rascaline\n",
    "calculator = rascaline.SphericalExpansion(\n",
    "    cutoff=3.0, \n",
    "    max_radial=5, \n",
    "    max_angular=6, \n",
    "    atomic_gaussian_width=0.3, \n",
    "    radial_basis={\"Gto\": {}}, \n",
    "    center_atom_weight=1.0, \n",
    "    gradients=True, \n",
    "    cutoff_function={\"ShiftedCosine\": {\"width\": 0.5}}\n",
    ")\n",
    "\n",
    "representation = calculator.compute(structures)"
   ]
  },
  {
   "cell_type": "markdown",
   "metadata": {},
   "source": [
    "`representation` is now a TensorMap, the core object in equistore"
   ]
  },
  {
   "cell_type": "code",
   "execution_count": 49,
   "metadata": {},
   "outputs": [
    {
     "data": {
      "text/plain": [
       "TensorMap with 28 blocks\n",
       "keys: ['spherical_harmonics_l' 'species_center' 'species_neighbor']\n",
       "                  0                   1                1\n",
       "                  1                   1                1\n",
       "                  2                   1                1\n",
       "               ...\n",
       "                  4                   8                8\n",
       "                  5                   8                8\n",
       "                  6                   8                8"
      ]
     },
     "execution_count": 49,
     "metadata": {},
     "output_type": "execute_result"
    }
   ],
   "source": [
    "representation"
   ]
  },
  {
   "cell_type": "markdown",
   "metadata": {},
   "source": [
    "A TensorMap is similar to a dictionary: it contains multiple keys, and a block of data is associated with each key"
   ]
  },
  {
   "cell_type": "code",
   "execution_count": 50,
   "metadata": {},
   "outputs": [
    {
     "data": {
      "text/plain": [
       "Labels([(0, 1, 1), (1, 1, 1), (2, 1, 1), (3, 1, 1), (4, 1, 1), (5, 1, 1),\n",
       "        (6, 1, 1), (0, 1, 8), (1, 1, 8), (2, 1, 8), (3, 1, 8), (4, 1, 8),\n",
       "        (5, 1, 8), (6, 1, 8), (0, 8, 1), (1, 8, 1), (2, 8, 1), (3, 8, 1),\n",
       "        (4, 8, 1), (5, 8, 1), (6, 8, 1), (0, 8, 8), (1, 8, 8), (2, 8, 8),\n",
       "        (3, 8, 8), (4, 8, 8), (5, 8, 8), (6, 8, 8)],\n",
       "       dtype=[('spherical_harmonics_l', '<i4'), ('species_center', '<i4'), ('species_neighbor', '<i4')])"
      ]
     },
     "execution_count": 50,
     "metadata": {},
     "output_type": "execute_result"
    }
   ],
   "source": [
    "representation.keys"
   ]
  },
  {
   "cell_type": "markdown",
   "metadata": {},
   "source": [
    "The keys (like all metadata in equistore) are represented as a set of `Labels`.\n",
    "\n",
    "A `Labels` instance contains multiple entries, each entry containing multiple variables. \n",
    "The variables names define what is being represented. \n",
    "\n",
    "Here, we have three variables in the keys: `species_center` and\n",
    "`species_neighbor` define the species of the central atom (the spherical\n",
    "expansion is an atom-centered representation) and neighbor atomic density. These\n",
    "two variables are used to exploit the inherent sparsity of atom-density\n",
    "representations.\n",
    "\n",
    "`spherical_harmonics_l` defines which set of spherical harmonics is being used\n",
    "in the corresponding data block, carrying information about the equivariance of\n",
    "the representation."
   ]
  },
  {
   "cell_type": "code",
   "execution_count": 51,
   "metadata": {},
   "outputs": [
    {
     "name": "stdout",
     "output_type": "stream",
     "text": [
      "('spherical_harmonics_l', 'species_center', 'species_neighbor')\n"
     ]
    }
   ],
   "source": [
    "print(representation.keys.names)"
   ]
  },
  {
   "cell_type": "code",
   "execution_count": 52,
   "metadata": {},
   "outputs": [
    {
     "name": "stdout",
     "output_type": "stream",
     "text": [
      "(0, 1, 1)\n",
      "(4, 8, 1)\n"
     ]
    }
   ],
   "source": [
    "# two different entries in the keys, corresponding to two different blocks\n",
    "print(representation.keys[0])\n",
    "print(representation.keys[18])"
   ]
  },
  {
   "cell_type": "markdown",
   "metadata": {},
   "source": [
    "One can also access `Labels` one (or multiple) variable at the time, which is useful when transforming the data"
   ]
  },
  {
   "cell_type": "code",
   "execution_count": 53,
   "metadata": {},
   "outputs": [
    {
     "name": "stdout",
     "output_type": "stream",
     "text": [
      "spherical_harmonics_l = [0 1 2 3 4 5 6 0 1 2 3 4 5 6 0 1 2 3 4 5 6 0 1 2 3 4 5 6]\n",
      "\n",
      "\n",
      "species = [(1, 1) (1, 1) (1, 1) (1, 1) (1, 1) (1, 1) (1, 1) (1, 8) (1, 8) (1, 8)\n",
      " (1, 8) (1, 8) (1, 8) (1, 8) (8, 1) (8, 1) (8, 1) (8, 1) (8, 1) (8, 1)\n",
      " (8, 1) (8, 8) (8, 8) (8, 8) (8, 8) (8, 8) (8, 8) (8, 8)]\n"
     ]
    }
   ],
   "source": [
    "print(\"spherical_harmonics_l =\", representation.keys[\"spherical_harmonics_l\"])\n",
    "print(\"\\n\\nspecies =\", representation.keys[[\"species_center\", \"species_neighbor\"]])"
   ]
  },
  {
   "cell_type": "markdown",
   "metadata": {},
   "source": [
    "We can get the blocks associated with a given key (or set of keys) in multiple\n",
    "ways. The most basic is to get the block by the index of the associated key:"
   ]
  },
  {
   "cell_type": "code",
   "execution_count": 54,
   "metadata": {},
   "outputs": [
    {
     "data": {
      "text/plain": [
       "TensorBlock \n",
       "samples: ['structure', 'center']\n",
       "component: ['spherical_harmonics_m']\n",
       "properties: ['n']\n",
       "gradients: ['positions']"
      ]
     },
     "execution_count": 54,
     "metadata": {},
     "output_type": "execute_result"
    }
   ],
   "source": [
    "block = representation.block(18)\n",
    "block"
   ]
  },
  {
   "cell_type": "markdown",
   "metadata": {},
   "source": [
    "Alternatively, one can get a block by explicitly selecting some of the key variables:"
   ]
  },
  {
   "cell_type": "code",
   "execution_count": 55,
   "metadata": {},
   "outputs": [
    {
     "data": {
      "text/plain": [
       "TensorBlock \n",
       "samples: ['structure', 'center']\n",
       "component: ['spherical_harmonics_m']\n",
       "properties: ['n']\n",
       "gradients: ['positions']"
      ]
     },
     "execution_count": 55,
     "metadata": {},
     "output_type": "execute_result"
    }
   ],
   "source": [
    "block = representation.block(spherical_harmonics_l=3, species_center=8, species_neighbor=1)\n",
    "block"
   ]
  },
  {
   "cell_type": "markdown",
   "metadata": {},
   "source": [
    "And even get multiple blocks by only giving a subset of the variables:"
   ]
  },
  {
   "cell_type": "code",
   "execution_count": 56,
   "metadata": {},
   "outputs": [
    {
     "name": "stdout",
     "output_type": "stream",
     "text": [
      "<class 'list'> containing 4 blocks\n"
     ]
    }
   ],
   "source": [
    "blocks = representation.block(spherical_harmonics_l=3)\n",
    "\n",
    "print(type(blocks), \"containing\", len(blocks), \"blocks\")"
   ]
  },
  {
   "cell_type": "markdown",
   "metadata": {},
   "source": [
    "Blocks as represented by the `TensorBlock` class. Each block contains a main set\n",
    "of values (the representation itself), metadata associated with these values, and \n",
    "optionally gradients of the values with respect to multiple parameters."
   ]
  },
  {
   "cell_type": "code",
   "execution_count": 76,
   "metadata": {},
   "outputs": [
    {
     "name": "stdout",
     "output_type": "stream",
     "text": [
      "float64\n",
      "(20, 7, 5)\n"
     ]
    }
   ],
   "source": [
    "block = representation.block(spherical_harmonics_l=3, species_center=1, species_neighbor=8)\n",
    "\n",
    "print(block.values.dtype)\n",
    "print(block.values.shape)\n",
    "\n",
    "# uncomment this to see the raw representation\n",
    "# print(block.values)"
   ]
  },
  {
   "cell_type": "markdown",
   "metadata": {},
   "source": [
    "The values are stored in an n-dimensional array, with at least 2 dimensions. The\n",
    "first dimension correspond to the **samples** (also sometimes called inputs or\n",
    "batches), i.e. **what** is being represented. \n",
    "\n",
    "The samples are describe by a set of `Labels`, with one entry in the labels for\n",
    "each row of the array. \n",
    "\n",
    "For the spherical expansion, the samples contain information about which atom in\n",
    "which structure each row corresponds to."
   ]
  },
  {
   "cell_type": "code",
   "execution_count": 58,
   "metadata": {},
   "outputs": [
    {
     "data": {
      "text/plain": [
       "Labels([(0, 1), (0, 2), (1, 1), (1, 2), (2, 1), (2, 2), (3, 1), (3, 2),\n",
       "        (4, 1), (4, 2), (5, 1), (5, 2), (6, 1), (6, 2), (7, 1), (7, 2),\n",
       "        (8, 1), (8, 2), (9, 1), (9, 2)],\n",
       "       dtype=[('structure', '<i4'), ('center', '<i4')])"
      ]
     },
     "execution_count": 58,
     "metadata": {},
     "output_type": "execute_result"
    }
   ],
   "source": [
    "block.samples"
   ]
  },
  {
   "cell_type": "markdown",
   "metadata": {},
   "source": [
    "The last dimension of the values array correspond to the **properties**, i.e.\n",
    "**how** we are representing something, or actual physical properties.\n",
    "\n",
    "They are also described by a set of `Labels`. For the spherical expansion there\n",
    "is only one property: the index $n$ of the radial basis."
   ]
  },
  {
   "cell_type": "code",
   "execution_count": 59,
   "metadata": {},
   "outputs": [
    {
     "data": {
      "text/plain": [
       "Labels([(0,), (1,), (2,), (3,), (4,)], dtype=[('n', '<i4')])"
      ]
     },
     "execution_count": 59,
     "metadata": {},
     "output_type": "execute_result"
    }
   ],
   "source": [
    "block.properties"
   ]
  },
  {
   "cell_type": "markdown",
   "metadata": {},
   "source": [
    "Any additional dimensions (dimensions between $1$ and $n - 1$) is used to define\n",
    "**components**. Components are used to represent any kind of vectorial or\n",
    "tensorial components. This is where we will find metadata related to\n",
    "equivariance.\n",
    "\n",
    "Another way of thinking about the difference between components and\n",
    "samples/features is that one can sub-select samples or properties (if we are\n",
    "only interested in a subset of the data), but we always need to keep all of the\n",
    "components entries.\n",
    "\n",
    "Once again, components are represented as a list of `Labels`. For the spherical\n",
    "expansion values, there is a single component: the spherical harmonic $m$\n",
    "number, running from $-l$ to $l$:"
   ]
  },
  {
   "cell_type": "code",
   "execution_count": 60,
   "metadata": {},
   "outputs": [
    {
     "name": "stdout",
     "output_type": "stream",
     "text": [
      "<class 'list'>\n",
      "this block contains 1 components\n"
     ]
    }
   ],
   "source": [
    "print(type(block.components))\n",
    "print(f\"this block contains {len(block.components)} components\")"
   ]
  },
  {
   "cell_type": "code",
   "execution_count": 61,
   "metadata": {},
   "outputs": [
    {
     "data": {
      "text/plain": [
       "Labels([(-3,), (-2,), (-1,), ( 0,), ( 1,), ( 2,), ( 3,)],\n",
       "       dtype=[('spherical_harmonics_m', '<i4')])"
      ]
     },
     "execution_count": 61,
     "metadata": {},
     "output_type": "execute_result"
    }
   ],
   "source": [
    "block.components[0]"
   ]
  },
  {
   "cell_type": "markdown",
   "metadata": {},
   "source": [
    "Overall, the block we are currently looking at contains 20 samples (2 hydrogen\n",
    "per structure, and 10 structure), 7 `spherical_harmonics_m` components (since\n",
    "`spherical_harmonics_m=3`), and 5 properties (since we set `max_radial=5` in the\n",
    "calculator)."
   ]
  },
  {
   "cell_type": "code",
   "execution_count": 62,
   "metadata": {},
   "outputs": [
    {
     "name": "stdout",
     "output_type": "stream",
     "text": [
      "(20, 7, 5)\n"
     ]
    }
   ],
   "source": [
    "print(block.values.shape)"
   ]
  },
  {
   "cell_type": "markdown",
   "metadata": {},
   "source": [
    "## Gradient data"
   ]
  },
  {
   "cell_type": "markdown",
   "metadata": {},
   "source": [
    "Each block can also contain the gradients of the values with respect to some\n",
    "parameters. \n",
    "\n",
    "Here, we have the gradient of the representation with respect to the positions\n",
    "of the atoms."
   ]
  },
  {
   "cell_type": "code",
   "execution_count": 63,
   "metadata": {},
   "outputs": [],
   "source": [
    "gradient = block.gradient(\"positions\")"
   ]
  },
  {
   "cell_type": "markdown",
   "metadata": {},
   "source": [
    "In the same way that the block contains both data and metadata, the gradients\n",
    "contains both numeric data and associated metadata"
   ]
  },
  {
   "cell_type": "code",
   "execution_count": 64,
   "metadata": {},
   "outputs": [
    {
     "name": "stdout",
     "output_type": "stream",
     "text": [
      "(40, 3, 7, 5)\n",
      "[(0,) (1,) (2,) (3,) (4,)]\n"
     ]
    }
   ],
   "source": [
    "print(gradient.data.shape)\n",
    "\n",
    "print(gradient.properties)"
   ]
  },
  {
   "cell_type": "markdown",
   "metadata": {},
   "source": [
    "The properties are the same between the values and gradients, but the components\n",
    "and samples can differ. Here we have one additional component describing the\n",
    "cartesian direction in which we are taking the gradient (x/y/z)"
   ]
  },
  {
   "cell_type": "code",
   "execution_count": 67,
   "metadata": {},
   "outputs": [
    {
     "name": "stdout",
     "output_type": "stream",
     "text": [
      "we have 2 components\n"
     ]
    },
    {
     "data": {
      "text/plain": [
       "Labels([(0,), (1,), (2,)], dtype=[('gradient_direction', '<i4')])"
      ]
     },
     "execution_count": 67,
     "metadata": {},
     "output_type": "execute_result"
    }
   ],
   "source": [
    "print(f\"we have {len(gradient.components)} components\")\n",
    "\n",
    "gradient.components[0]"
   ]
  },
  {
   "cell_type": "markdown",
   "metadata": {},
   "source": [
    "And we have the `spherical_harmonics_m` component again"
   ]
  },
  {
   "cell_type": "code",
   "execution_count": 77,
   "metadata": {},
   "outputs": [
    {
     "data": {
      "text/plain": [
       "Labels([(-3,), (-2,), (-1,), ( 0,), ( 1,), ( 2,), ( 3,)],\n",
       "       dtype=[('spherical_harmonics_m', '<i4')])"
      ]
     },
     "execution_count": 77,
     "metadata": {},
     "output_type": "execute_result"
    }
   ],
   "source": [
    "gradient.components[1]"
   ]
  },
  {
   "cell_type": "markdown",
   "metadata": {},
   "source": [
    "The gradient samples contains three variables: `sample`, `structure` and `atom`. \n",
    "\n",
    "For each row in the gradient data, they indicate which one of the row in the\n",
    "values we are taking the gradient of, and with respect to which atom in which\n",
    "structure we are taking this gradient."
   ]
  },
  {
   "cell_type": "code",
   "execution_count": 78,
   "metadata": {},
   "outputs": [
    {
     "data": {
      "text/plain": [
       "Labels([( 0, 0, 0), ( 0, 0, 1), ( 1, 0, 0), ( 1, 0, 2), ( 2, 1, 0),\n",
       "        ( 2, 1, 1), ( 3, 1, 0), ( 3, 1, 2), ( 4, 2, 0), ( 4, 2, 1),\n",
       "        ( 5, 2, 0), ( 5, 2, 2), ( 6, 3, 0), ( 6, 3, 1), ( 7, 3, 0),\n",
       "        ( 7, 3, 2), ( 8, 4, 0), ( 8, 4, 1), ( 9, 4, 0), ( 9, 4, 2),\n",
       "        (10, 5, 0), (10, 5, 1), (11, 5, 0), (11, 5, 2), (12, 6, 0),\n",
       "        (12, 6, 1), (13, 6, 0), (13, 6, 2), (14, 7, 0), (14, 7, 1),\n",
       "        (15, 7, 0), (15, 7, 2), (16, 8, 0), (16, 8, 1), (17, 8, 0),\n",
       "        (17, 8, 2), (18, 9, 0), (18, 9, 1), (19, 9, 0), (19, 9, 2)],\n",
       "       dtype=[('sample', '<i4'), ('structure', '<i4'), ('atom', '<i4')])"
      ]
     },
     "execution_count": 78,
     "metadata": {},
     "output_type": "execute_result"
    }
   ],
   "source": [
    "gradient.samples"
   ]
  },
  {
   "cell_type": "markdown",
   "metadata": {},
   "source": [
    "Here, we are looking at a block with `species_center=1, species_neighbor=8`. \n",
    "\n",
    "The first sample in the values is associated with the first H in the first\n",
    "structure, and there are two gradient samples associated with `sample = 0`. One\n",
    "of them contains the gradient of the representation with respect to the\n",
    "positions of atom 0 (the oxygen atom); and the second contains the gradient of\n",
    "with respect to the positions of atom 1 (the current center).\n",
    "\n",
    "The next value sample is describing the second hydrogen atom (index 2) in the\n",
    "structure. The associated gradient samples are very similar, containing\n",
    "gradients with respect to the position of the oxygen and the atomic center."
   ]
  },
  {
   "cell_type": "code",
   "execution_count": 79,
   "metadata": {},
   "outputs": [
    {
     "name": "stdout",
     "output_type": "stream",
     "text": [
      "('structure', 'center')\n",
      "[(0, 1) (0, 2) (1, 1) (1, 2) (2, 1) (2, 2) (3, 1) (3, 2) (4, 1) (4, 2)\n",
      " (5, 1) (5, 2) (6, 1) (6, 2) (7, 1) (7, 2) (8, 1) (8, 2) (9, 1) (9, 2)]\n"
     ]
    },
    {
     "data": {
      "text/plain": [
       "Labels([(0, 0, 0), (0, 0, 1), (1, 0, 0), (1, 0, 2)],\n",
       "       dtype=[('sample', '<i4'), ('structure', '<i4'), ('atom', '<i4')])"
      ]
     },
     "execution_count": 79,
     "metadata": {},
     "output_type": "execute_result"
    }
   ],
   "source": [
    "print(block.samples.names)\n",
    "print(block.samples)\n",
    "\n",
    "gradient.samples[:4]"
   ]
  },
  {
   "cell_type": "markdown",
   "metadata": {},
   "source": [
    "## Going from a sparse to a dense representation\n",
    "\n",
    "Being able to exploit inherent species sparsity in the data is good, but can\n",
    "make the code using the corresponding code more complex. Fortunately, there are\n",
    "ways to transform a TensorMap from a sparse to to a dense representation by\n",
    "merging blocks that share non-sparse keys together.\n",
    "\n",
    "We'll start fresh with a new spherical expansion representation, which contains \n",
    "a lot of separate keys/blocks:"
   ]
  },
  {
   "cell_type": "code",
   "execution_count": 80,
   "metadata": {},
   "outputs": [
    {
     "data": {
      "text/plain": [
       "Labels([(0, 1, 1), (1, 1, 1), (2, 1, 1), (3, 1, 1), (4, 1, 1), (5, 1, 1),\n",
       "        (6, 1, 1), (0, 1, 8), (1, 1, 8), (2, 1, 8), (3, 1, 8), (4, 1, 8),\n",
       "        (5, 1, 8), (6, 1, 8), (0, 8, 1), (1, 8, 1), (2, 8, 1), (3, 8, 1),\n",
       "        (4, 8, 1), (5, 8, 1), (6, 8, 1), (0, 8, 8), (1, 8, 8), (2, 8, 8),\n",
       "        (3, 8, 8), (4, 8, 8), (5, 8, 8), (6, 8, 8)],\n",
       "       dtype=[('spherical_harmonics_l', '<i4'), ('species_center', '<i4'), ('species_neighbor', '<i4')])"
      ]
     },
     "execution_count": 80,
     "metadata": {},
     "output_type": "execute_result"
    }
   ],
   "source": [
    "representation = calculator.compute(structures)\n",
    "\n",
    "representation.keys"
   ]
  },
  {
   "cell_type": "markdown",
   "metadata": {},
   "source": [
    "The first function converting from sparse to dense representation is\n",
    "`keys_to_properties`. This function takes as input the name of a variable from\n",
    "the keys, and group together blocks that have the same value for all the other\n",
    "variables in the keys. If we move `species_neighbor` to the properties, all\n",
    "blocks with the same `spherical_harmonics_l` and `species_center` will be merged\n",
    "together."
   ]
  },
  {
   "cell_type": "code",
   "execution_count": 81,
   "metadata": {},
   "outputs": [
    {
     "data": {
      "text/plain": [
       "Labels([(0, 1), (1, 1), (2, 1), (3, 1), (4, 1), (5, 1), (6, 1), (0, 8),\n",
       "        (1, 8), (2, 8), (3, 8), (4, 8), (5, 8), (6, 8)],\n",
       "       dtype=[('spherical_harmonics_l', '<i4'), ('species_center', '<i4')])"
      ]
     },
     "execution_count": 81,
     "metadata": {},
     "output_type": "execute_result"
    }
   ],
   "source": [
    "representation.keys_to_properties(\"species_neighbor\", sort_samples=True)\n",
    "\n",
    "representation.keys"
   ]
  },
  {
   "cell_type": "markdown",
   "metadata": {},
   "source": [
    "The merged blocks properties now contain two variables: the species of the\n",
    "neighbor atoms and the already existing radial basis index $n$.\n",
    "\n",
    "\n",
    "| species_neighbor=1          | species_neighbor=8          |\n",
    "|-----------------------------|-----------------------------|\n",
    "| n=0 / n=1 / n=2 / n=3 / n=4 | n=0 / n=1 / n=2 / n=3 / n=4 |"
   ]
  },
  {
   "cell_type": "code",
   "execution_count": 82,
   "metadata": {},
   "outputs": [
    {
     "data": {
      "text/plain": [
       "Labels([(1, 0), (1, 1), (1, 2), (1, 3), (1, 4), (8, 0), (8, 1), (8, 2),\n",
       "        (8, 3), (8, 4)], dtype=[('species_neighbor', '<i4'), ('n', '<i4')])"
      ]
     },
     "execution_count": 82,
     "metadata": {},
     "output_type": "execute_result"
    }
   ],
   "source": [
    "representation.block(0).properties"
   ]
  },
  {
   "cell_type": "markdown",
   "metadata": {},
   "source": [
    "The second function is `keys_to_samples`. It behaves similarly to\n",
    "`keys_to_properties` regarding which blocks it merges together, but the blocks\n",
    "are merged along the sample dimension instead of the property dimension:"
   ]
  },
  {
   "cell_type": "code",
   "execution_count": 83,
   "metadata": {},
   "outputs": [
    {
     "data": {
      "text/plain": [
       "Labels([(0,), (1,), (2,), (3,), (4,), (5,), (6,)],\n",
       "       dtype=[('spherical_harmonics_l', '<i4')])"
      ]
     },
     "execution_count": 83,
     "metadata": {},
     "output_type": "execute_result"
    }
   ],
   "source": [
    "representation.keys_to_samples(\"species_center\", sort_samples=True)\n",
    "\n",
    "representation.keys"
   ]
  },
  {
   "cell_type": "markdown",
   "metadata": {},
   "source": [
    "Here the samples have been modified (and re-sorted) to contain information about the species of the center."
   ]
  },
  {
   "cell_type": "code",
   "execution_count": 84,
   "metadata": {},
   "outputs": [
    {
     "data": {
      "text/plain": [
       "Labels([(0, 0, 8), (0, 1, 1), (0, 2, 1), (1, 0, 8), (1, 1, 1), (1, 2, 1),\n",
       "        (2, 0, 8), (2, 1, 1), (2, 2, 1), (3, 0, 8), (3, 1, 1), (3, 2, 1),\n",
       "        (4, 0, 8), (4, 1, 1), (4, 2, 1), (5, 0, 8), (5, 1, 1), (5, 2, 1),\n",
       "        (6, 0, 8), (6, 1, 1), (6, 2, 1), (7, 0, 8), (7, 1, 1), (7, 2, 1),\n",
       "        (8, 0, 8), (8, 1, 1), (8, 2, 1), (9, 0, 8), (9, 1, 1), (9, 2, 1)],\n",
       "       dtype=[('structure', '<i4'), ('center', '<i4'), ('species_center', '<i4')])"
      ]
     },
     "execution_count": 84,
     "metadata": {},
     "output_type": "execute_result"
    }
   ],
   "source": [
    "representation.block(0).samples"
   ]
  },
  {
   "cell_type": "markdown",
   "metadata": {},
   "source": [
    "Now the different blocks can be used directly and passed to all the usual ML libraries"
   ]
  },
  {
   "cell_type": "code",
   "execution_count": 85,
   "metadata": {},
   "outputs": [
    {
     "data": {
      "text/plain": [
       "(30, 3, 10)"
      ]
     },
     "execution_count": 85,
     "metadata": {},
     "output_type": "execute_result"
    }
   ],
   "source": [
    "block_l_1 = representation.block(spherical_harmonics_l=1)\n",
    "\n",
    "block_l_1.values.shape"
   ]
  },
  {
   "cell_type": "markdown",
   "metadata": {},
   "source": [
    "# Saving data to the disk\n",
    "\n",
    "TensorMap can be serialized and saved to the disk, using a format based on \n",
    "numpy NPZ files."
   ]
  },
  {
   "cell_type": "code",
   "execution_count": 86,
   "metadata": {},
   "outputs": [],
   "source": [
    "equistore.io.save(\"spherical-expansion.npz\", representation)"
   ]
  },
  {
   "cell_type": "markdown",
   "metadata": {},
   "source": [
    "They can then be loaded again with equistore. \n",
    "\n",
    "\n",
    "This can be very useful when computing a part of the machine learning pipeline\n",
    "is very costly, for example computing a large kernel only once and then slicing\n",
    "it to create a learning curve, or using complex structural representations"
   ]
  },
  {
   "cell_type": "code",
   "execution_count": 87,
   "metadata": {},
   "outputs": [],
   "source": [
    "representation = equistore.io.load(\"spherical-expansion.npz\")"
   ]
  },
  {
   "cell_type": "markdown",
   "metadata": {},
   "source": [
    "The file format is fully compatible with numpy, and does not requires equistore\n",
    "to extract the data."
   ]
  },
  {
   "cell_type": "code",
   "execution_count": 88,
   "metadata": {},
   "outputs": [
    {
     "data": {
      "text/plain": [
       "Labels([ True,  True,  True,  True,  True,  True,  True])"
      ]
     },
     "execution_count": 88,
     "metadata": {},
     "output_type": "execute_result"
    }
   ],
   "source": [
    "numpy_loaded = np.load(\"spherical-expansion.npz\")\n",
    "numpy_loaded[\"keys\"] == representation.keys"
   ]
  },
  {
   "cell_type": "markdown",
   "metadata": {},
   "source": [
    "# Building ML models"
   ]
  },
  {
   "cell_type": "markdown",
   "metadata": {},
   "source": [
    "Let's now use equistore to build a simple ML model. Here we will not exploit any\n",
    "of the equivariant features in equistore, but we will use the metadata\n",
    "associated with each block."
   ]
  },
  {
   "cell_type": "code",
   "execution_count": 89,
   "metadata": {},
   "outputs": [],
   "source": [
    "from equistore import Labels, TensorBlock, TensorMap"
   ]
  },
  {
   "cell_type": "markdown",
   "metadata": {},
   "source": [
    "We will start by reading the full water dataset, and then splitting it into\n",
    "test and train set."
   ]
  },
  {
   "cell_type": "code",
   "execution_count": 90,
   "metadata": {},
   "outputs": [],
   "source": [
    "import sklearn.model_selection\n",
    "\n",
    "structures = ase.io.read(\"data/water-dipoles.xyz\", \":\")\n",
    "train_structures, test_structures = sklearn.model_selection.train_test_split(\n",
    "    structures,\n",
    "    test_size=0.2,\n",
    ")"
   ]
  },
  {
   "cell_type": "markdown",
   "metadata": {},
   "source": [
    "Then, we will extract the energy and forces from the dataset, and put them into \n",
    "an equistore TensorMap"
   ]
  },
  {
   "cell_type": "code",
   "execution_count": 91,
   "metadata": {},
   "outputs": [],
   "source": [
    "def extract_energy_forces(structures):\n",
    "    energies = []\n",
    "    forces = []\n",
    "    for structure in structures:\n",
    "        energies.append(structure.info[\"energy\"])\n",
    "        forces.append(structure.arrays[\"force\"])\n",
    "    energies = np.array(energies)\n",
    "    forces = np.array(forces)\n",
    "\n",
    "    block = TensorBlock(\n",
    "        values=energies.reshape(-1, 1), \n",
    "        samples=Labels([\"structure\"], np.array([[i] for i in range(len(structures))], dtype=np.int32)), \n",
    "        components=[], \n",
    "        properties=Labels([\"energy\"], np.array([[0]], dtype=np.int32)),\n",
    "    )\n",
    "\n",
    "    block.add_gradient(\n",
    "        \"positions\", \n",
    "        data=-forces.reshape(-1, 3, 1),\n",
    "        samples=Labels(\n",
    "            [\"sample\", \"structure\", \"atom\"], \n",
    "            np.array([\n",
    "                [structure_i, structure_i, atom_i] \n",
    "                for structure_i, structure in enumerate(structures)\n",
    "                for atom_i in range(len(structure))\n",
    "            ], dtype=np.int32)\n",
    "        ), \n",
    "        components=[Labels([\"direction\"], np.array([[0], [1], [2]], dtype=np.int32))]\n",
    "    )\n",
    "    \n",
    "    return TensorMap(keys=Labels.single(), blocks=[block])\n"
   ]
  },
  {
   "cell_type": "code",
   "execution_count": 92,
   "metadata": {},
   "outputs": [],
   "source": [
    "train_energy = extract_energy_forces(train_structures)\n",
    "test_energy = extract_energy_forces(test_structures)"
   ]
  },
  {
   "cell_type": "markdown",
   "metadata": {},
   "source": [
    "We now have a TensorMap with a single block, containing both the energy for all \n",
    "structures and the forces acting on each atom."
   ]
  },
  {
   "cell_type": "code",
   "execution_count": 93,
   "metadata": {},
   "outputs": [
    {
     "data": {
      "text/plain": [
       "Labels([( 0,), ( 1,), ( 2,), ( 3,), ( 4,), ( 5,), ( 6,), ( 7,), ( 8,),\n",
       "        ( 9,), (10,), (11,), (12,), (13,), (14,), (15,), (16,), (17,),\n",
       "        (18,), (19,), (20,), (21,), (22,), (23,), (24,), (25,), (26,),\n",
       "        (27,), (28,), (29,), (30,), (31,), (32,), (33,), (34,), (35,),\n",
       "        (36,), (37,), (38,), (39,), (40,), (41,), (42,), (43,), (44,),\n",
       "        (45,), (46,), (47,), (48,), (49,), (50,), (51,), (52,), (53,),\n",
       "        (54,), (55,), (56,), (57,), (58,), (59,), (60,), (61,), (62,),\n",
       "        (63,), (64,), (65,), (66,), (67,), (68,), (69,), (70,), (71,),\n",
       "        (72,), (73,), (74,), (75,), (76,), (77,), (78,), (79,), (80,),\n",
       "        (81,), (82,), (83,), (84,), (85,), (86,), (87,), (88,), (89,),\n",
       "        (90,), (91,), (92,), (93,), (94,), (95,)],\n",
       "       dtype=[('structure', '<i4')])"
      ]
     },
     "execution_count": 93,
     "metadata": {},
     "output_type": "execute_result"
    }
   ],
   "source": [
    "train_energy.block().samples"
   ]
  },
  {
   "cell_type": "code",
   "execution_count": 94,
   "metadata": {},
   "outputs": [
    {
     "data": {
      "text/plain": [
       "Labels([(0, 0, 0), (0, 0, 1), (0, 0, 2), (1, 1, 0), (1, 1, 1), (1, 1, 2),\n",
       "        (2, 2, 0), (2, 2, 1), (2, 2, 2), (3, 3, 0)],\n",
       "       dtype=[('sample', '<i4'), ('structure', '<i4'), ('atom', '<i4')])"
      ]
     },
     "execution_count": 94,
     "metadata": {},
     "output_type": "execute_result"
    }
   ],
   "source": [
    "train_energy.block().gradient(\"positions\").samples[:10]\n",
    "\n",
    "# feel free to explore the data more! in particular, try to understand what goes\n",
    "# into the shape of train_energy.block().values and\n",
    "# train_energy.block().gradient(\"positions\").data"
   ]
  },
  {
   "cell_type": "markdown",
   "metadata": {},
   "source": [
    "We will build a linear model using SOAP power spectrum features. The power\n",
    "spectrum is built by taking the correlation of two spherical expansion, yielding\n",
    "a 3-body invariant representation.\n",
    "\n",
    "$$ \\braket{\\alpha \\alpha' n n' l | \\rho_i} = \\sum_m \\braket{\\alpha n l m | \\rho_i} \\braket{\\alpha' n' l m | \\rho_i}$$\n",
    "\n",
    "After computing the per-atom representation, we sum over the atoms in a\n",
    "structure to create a per-structure representation:\n",
    "\n",
    "$$ \\braket{\\alpha \\alpha' n n' l | A} = \\sum_i \\braket{\\alpha \\alpha' n n' l | \\rho_i}$$"
   ]
  },
  {
   "cell_type": "code",
   "execution_count": 115,
   "metadata": {},
   "outputs": [],
   "source": [
    "from utils.models import sum_over_structures\n",
    "\n",
    "calculator = rascaline.SoapPowerSpectrum(\n",
    "    cutoff=3.0, \n",
    "    max_radial=4,\n",
    "    max_angular=4, \n",
    "    atomic_gaussian_width=0.3, \n",
    "    radial_basis={\"Gto\": {}}, \n",
    "    center_atom_weight=1.0, \n",
    "    gradients=True, \n",
    "    cutoff_function={\"ShiftedCosine\": {\"width\": 0.5}}\n",
    ")\n",
    "\n",
    "train_representation = calculator.compute(train_structures)\n",
    "train_representation.keys_to_properties([\"species_neighbor_1\", \"species_neighbor_2\"])\n",
    "train_representation.keys_to_samples(\"species_center\")\n",
    "train_representation = sum_over_structures(train_representation)\n",
    "\n",
    "test_representation = calculator.compute(test_structures)\n",
    "test_representation.keys_to_properties([\"species_neighbor_1\", \"species_neighbor_2\"])\n",
    "test_representation.keys_to_samples(\"species_center\")\n",
    "test_representation = sum_over_structures(test_representation)"
   ]
  },
  {
   "cell_type": "code",
   "execution_count": 116,
   "metadata": {},
   "outputs": [],
   "source": [
    "def parity_plot(weights, train_energy, train_representation, test_energy, test_representation):\n",
    "    fix, ax = plt.subplots(1, 2, figsize=(12, 6))\n",
    "\n",
    "    train_reference = train_energy.block().values\n",
    "    train_predicted = train_representation.block().values @ weights\n",
    "    ax[0].scatter(train_reference.flatten(), train_predicted.flatten(), label=\"train\")\n",
    "\n",
    "    test_reference = test_energy.block().values\n",
    "    test_predicted = test_representation.block().values @ weights\n",
    "    ax[0].scatter(test_reference.flatten(), test_predicted.flatten(), label=\"test\")\n",
    "\n",
    "    ax[0].set_xlabel(\"reference\")\n",
    "    ax[0].set_ylabel(\"predicted\")\n",
    "    ax[0].set_title(\"energies\")\n",
    "    ax[0].legend()\n",
    "\n",
    "    # Predicting the forces\n",
    "    train_reference = train_energy.block().gradient(\"positions\").data\n",
    "    train_predicted = train_representation.block().gradient(\"positions\").data @ weights\n",
    "    ax[1].scatter(train_reference.flatten(), train_predicted.flatten(), label=\"train\")\n",
    "\n",
    "    test_reference = test_energy.block().gradient(\"positions\").data\n",
    "    test_predicted = test_representation.block().gradient(\"positions\").data @ weights\n",
    "    ax[1].scatter(test_reference.flatten(), test_predicted.flatten(), label=\"test\")\n",
    "\n",
    "    ax[1].set_xlabel(\"reference\")\n",
    "    ax[1].set_ylabel(\"predicted\")\n",
    "    ax[1].set_title(\"forces\")\n",
    "    ax[1].legend()"
   ]
  },
  {
   "cell_type": "markdown",
   "metadata": {},
   "source": [
    "### Training a linear model on energies only"
   ]
  },
  {
   "cell_type": "markdown",
   "metadata": {},
   "source": [
    "The first linear model we will make will only be trained on the energies. We can\n",
    "use the ridge regression formula to compute the model weights $\\beta$:\n",
    "\n",
    "$$ \\hat{y} = X \\beta$$\n",
    "$$ \\beta = (X^T X + \\Lambda)^{-1} X^T \\ y$$\n",
    "\n",
    "We can still use the gradients of the SOAP power spectrum to predict the forces\n",
    "associated with this model; but since we did not include any force data when\n",
    "training, the force predictions are really bad:"
   ]
  },
  {
   "cell_type": "code",
   "execution_count": 124,
   "metadata": {},
   "outputs": [
    {
     "data": {
      "image/png": "[encoded data removed]",
      "text/plain": [
       "<Figure size 864x432 with 2 Axes>"
      ]
     },
     "metadata": {
      "needs_background": "light"
     },
     "output_type": "display_data"
    }
   ],
   "source": [
    "X = train_representation.block().values\n",
    "y = train_energy.block().values\n",
    "\n",
    "regularizer = 1e-6\n",
    "\n",
    "weights = np.linalg.solve(X.T @ X + regularizer * np.eye(X.shape[1]), X.T @ y)\n",
    "\n",
    "parity_plot(weights, train_energy, train_representation, test_energy, test_representation)"
   ]
  },
  {
   "cell_type": "markdown",
   "metadata": {},
   "source": [
    "### Training energies and all forces"
   ]
  },
  {
   "cell_type": "markdown",
   "metadata": {},
   "source": [
    "We can improve the prediction on forces by including this data in the training set:"
   ]
  },
  {
   "cell_type": "code",
   "execution_count": 118,
   "metadata": {},
   "outputs": [
    {
     "data": {
      "image/png": "[encoded data removed]",
      "text/plain": [
       "<Figure size 864x432 with 2 Axes>"
      ]
     },
     "metadata": {
      "needs_background": "light"
     },
     "output_type": "display_data"
    }
   ],
   "source": [
    "X = train_representation.block().values\n",
    "X_grad = train_representation.block().gradient(\"positions\").data\n",
    "\n",
    "y = train_energy.block().values\n",
    "y_grad = train_energy.block().gradient(\"positions\").data\n",
    "\n",
    "X = np.vstack([X, X_grad.reshape(-1, X.shape[-1])])\n",
    "y = np.vstack([y, y_grad.reshape(-1, y.shape[-1])])\n",
    "\n",
    "regularizer = 1e-6\n",
    "\n",
    "weights = np.linalg.solve(X.T @ X + regularizer * np.eye(X.shape[1]), X.T @ y)\n",
    "\n",
    "parity_plot(weights, train_energy, train_representation, test_energy, test_representation)"
   ]
  },
  {
   "cell_type": "markdown",
   "metadata": {},
   "source": [
    "Unfortunately, including all the forces on all the atoms increases the cost of\n",
    "training a model quite a lot. Both the computational cost (CPU time) and memory\n",
    "cost increase significantly. In this tutorial we are fine since we are working\n",
    "with a very small dataset.\n",
    "\n",
    "Let's compare training only on energies and training on energies and all forces:"
   ]
  },
  {
   "cell_type": "code",
   "execution_count": 119,
   "metadata": {},
   "outputs": [
    {
     "name": "stdout",
     "output_type": "stream",
     "text": [
      "1.11 ms ± 104 µs per loop (mean ± std. dev. of 7 runs, 100 loops each)\n"
     ]
    }
   ],
   "source": [
    "%%timeit\n",
    "\n",
    "# Training on energies only\n",
    "\n",
    "X = train_representation.block().values\n",
    "y = train_energy.block().values\n",
    "\n",
    "regularizer = 1e-6\n",
    "\n",
    "weights = np.linalg.solve(X.T @ X + regularizer * np.eye(X.shape[1]), X.T @ y)"
   ]
  },
  {
   "cell_type": "code",
   "execution_count": 120,
   "metadata": {},
   "outputs": [
    {
     "name": "stdout",
     "output_type": "stream",
     "text": [
      "2.58 ms ± 362 µs per loop (mean ± std. dev. of 7 runs, 100 loops each)\n"
     ]
    }
   ],
   "source": [
    "%%timeit\n",
    "\n",
    "# Training on forces and energies\n",
    "\n",
    "X = train_representation.block().values\n",
    "X_grad = train_representation.block().gradient(\"positions\").data\n",
    "\n",
    "y = train_energy.block().values\n",
    "y_grad = train_energy.block().gradient(\"positions\").data\n",
    "\n",
    "X = np.vstack([X, X_grad.reshape(-1, X.shape[-1])])\n",
    "y = np.vstack([y, y_grad.reshape(-1, y.shape[-1])])\n",
    "\n",
    "regularizer = 1e-6\n",
    "\n",
    "weights = np.linalg.solve(X.T @ X + regularizer * np.eye(X.shape[1]), X.T @ y)"
   ]
  },
  {
   "cell_type": "markdown",
   "metadata": {},
   "source": [
    "### Training on energy and a subset of the forces"
   ]
  },
  {
   "cell_type": "markdown",
   "metadata": {},
   "source": [
    "Equistore allows us to easily incorporate only a subset of the forces in our\n",
    "model, still getting much better forces prediction, while reducing the\n",
    "computational cost of training the model!\n",
    "\n",
    "For example, let's use only the forces acting on the first hydrogen atom, for\n",
    "the first 40 frames."
   ]
  },
  {
   "cell_type": "code",
   "execution_count": 125,
   "metadata": {},
   "outputs": [
    {
     "data": {
      "image/png": "[encoded data removed]",
      "text/plain": [
       "<Figure size 864x432 with 2 Axes>"
      ]
     },
     "metadata": {
      "needs_background": "light"
     },
     "output_type": "display_data"
    }
   ],
   "source": [
    "X = train_representation.block().values\n",
    "gradient = train_representation.block().gradient(\"positions\")\n",
    "# select the right representation entries\n",
    "mask = np.logical_and(gradient.samples[\"atom\"] == 1, gradient.samples[\"structure\"] < 40)\n",
    "X_grad = gradient.data[mask]\n",
    "\n",
    "y = train_energy.block().values\n",
    "gradient = train_energy.block().gradient(\"positions\")\n",
    "# select the right property entries\n",
    "mask = np.logical_and(gradient.samples[\"atom\"] == 1, gradient.samples[\"structure\"] < 40)\n",
    "y_grad = gradient.data[mask]\n",
    "\n",
    "X = np.vstack([X, X_grad.reshape(-1, X.shape[-1])])\n",
    "y = np.vstack([y, y_grad.reshape(-1, y.shape[-1])])\n",
    "\n",
    "regularizer = 1e-6\n",
    "\n",
    "weights = np.linalg.solve(X.T @ X + regularizer * np.eye(X.shape[1]), X.T @ y)\n",
    "\n",
    "parity_plot(weights, train_energy, train_representation, test_energy, test_representation)"
   ]
  },
  {
   "cell_type": "markdown",
   "metadata": {},
   "source": [
    "This model should be faster and require less memory to train!"
   ]
  },
  {
   "cell_type": "code",
   "execution_count": 123,
   "metadata": {},
   "outputs": [
    {
     "name": "stdout",
     "output_type": "stream",
     "text": [
      "1.61 ms ± 296 µs per loop (mean ± std. dev. of 7 runs, 100 loops each)\n"
     ]
    }
   ],
   "source": [
    "%%timeit\n",
    "\n",
    "X = train_representation.block().values\n",
    "gradient = train_representation.block().gradient(\"positions\")\n",
    "# select the right representation rows\n",
    "mask = np.logical_and(gradient.samples[\"atom\"] == 1, gradient.samples[\"structure\"] < 40)\n",
    "X_grad = gradient.data[mask]\n",
    "\n",
    "y = train_energy.block().values\n",
    "gradient = train_energy.block().gradient(\"positions\")\n",
    "# select the right property rows\n",
    "mask = np.logical_and(gradient.samples[\"atom\"] == 1, gradient.samples[\"structure\"] < 40)\n",
    "y_grad = gradient.data[mask]\n",
    "\n",
    "X = np.vstack([X, X_grad.reshape(-1, X.shape[-1])])\n",
    "y = np.vstack([y, y_grad.reshape(-1, y.shape[-1])])\n",
    "\n",
    "regularizer = 1e-6\n",
    "\n",
    "weights = np.linalg.solve(X.T @ X + regularizer * np.eye(X.shape[1]), X.T @ y)"
   ]
  },
  {
   "cell_type": "code",
   "execution_count": null,
   "metadata": {},
   "outputs": [],
   "source": []
  }
 ],
 "metadata": {
  "kernelspec": {
   "display_name": "Python 3.10.5 ('virtualenv': venv)",
   "language": "python",
   "name": "python3"
  },
  "language_info": {
   "codemirror_mode": {
    "name": "ipython",
    "version": 3
   },
   "file_extension": ".py",
   "mimetype": "text/x-python",
   "name": "python",
   "nbconvert_exporter": "python",
   "pygments_lexer": "ipython3",
   "version": "3.10.5"
  },
  "orig_nbformat": 4,
  "vscode": {
   "interpreter": {
    "hash": "3684f64a821d79057c6dca1f4ae6d0ede5c6134fa08a761e76ccf53832f72d94"
   }
  }
 },
 "nbformat": 4,
 "nbformat_minor": 2
}
