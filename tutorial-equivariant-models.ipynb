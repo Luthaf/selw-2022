{
 "cells": [
  {
   "cell_type": "markdown",
   "metadata": {},
   "source": [
    "<p style=\"font-size:32px; font-weight: bolder; text-align: center\">Equivariant ML models</p>\n",
    "<p style=\"font-size:16px; text-align: center\">A tutorial introduction</p>\n",
    "<p style=\"text-align: center\"><i> authored by: <a href=\"mailto:michele.ceriotti@gmail.com\"> Michele Ceriotti </a></i></p>\n"
   ]
  },
  {
   "cell_type": "markdown",
   "metadata": {},
   "source": [
    "_Equivariance_ indicates the property of a function for which the inputs and outputs are subject to the action of the same symmetries, and which commutes with the application of the symmetries, that is: $f(\\hat{S}A) = \\hat{S} f(A)$. _Invariance_ can be seen as a special case, in which $f(\\hat{S}A) = f(A)$.\n",
    "\n",
    "This notebook provides a brief introduction to the concept of equivariance in the context of atomic-scale machine-learning models, focusing in particular on the case of 3D rotations and inversion - in technical terms the $O(3)$ group symmetries - and their combination with translations - the three-dimensional Euclidean group $E(3)$.\n"
   ]
  },
  {
   "cell_type": "markdown",
   "metadata": {},
   "source": [
    "# The tools of the trade\n"
   ]
  },
  {
   "cell_type": "markdown",
   "metadata": {},
   "source": [
    "We will use a number of packages, including both general-purpose ones and some that are designed specifically to the construction and manipulation of equivariant ML models. You should be able to fetch most of these from PIP, while others might require a custom installation.\n"
   ]
  },
  {
   "cell_type": "markdown",
   "metadata": {},
   "source": [
    "Besides some time-tested classics...\n"
   ]
  },
  {
   "cell_type": "code",
   "execution_count": 1,
   "metadata": {},
   "outputs": [],
   "source": [
    "import numpy as np\n",
    "import matplotlib.pyplot as plt\n",
    "import sympy"
   ]
  },
  {
   "cell_type": "markdown",
   "metadata": {},
   "source": [
    "... we will use [ASE](https://wiki.fysik.dtu.dk/ase/) to load and manipulate atomic structures\n"
   ]
  },
  {
   "cell_type": "code",
   "execution_count": null,
   "metadata": {},
   "outputs": [],
   "source": [
    "import ase.io"
   ]
  },
  {
   "cell_type": "markdown",
   "metadata": {},
   "source": [
    "... [chemiscope](https://chemiscope.org) to visualize them, [equistore](https://github.com/lab-cosmo/equistore) to hold equivariant quantities and [rascaline](https://github.com/Luthaf/rascaline) to compute atom-centered density correlations (ACDCs) - the main family of equivariant descriptors we will use.\n"
   ]
  },
  {
   "cell_type": "code",
   "execution_count": null,
   "metadata": {},
   "outputs": [],
   "source": [
    "import equistore\n",
    "from equistore import TensorBlock, TensorMap, Labels\n",
    "\n",
    "import chemiscope\n",
    "import warnings\n",
    "warnings.filterwarnings(\"ignore\", module=\"chemiscope\")\n",
    "\n",
    "from rascaline import SphericalExpansion\n",
    "\n",
    "# HACK: load the rascaline library before loading any equistore function\n",
    "# this will be fixed in a future version of the library\n",
    "import rascaline\n",
    "rascaline._c_lib._get_library();"
   ]
  },
  {
   "cell_type": "code",
   "execution_count": null,
   "metadata": {},
   "outputs": [],
   "source": [
    "# run this line if you are missing some package\n",
    "# !pip install --user -r requirements.txt"
   ]
  },
  {
   "cell_type": "markdown",
   "metadata": {},
   "source": [
    "## Water dataset\n"
   ]
  },
  {
   "cell_type": "markdown",
   "metadata": {},
   "source": [
    "We use as a demonstrative dataset a simple dataset that contains a water molecule, stretched and bent in different ways. For each configuration, the dataset holds energy, forces and dipole moments, computed using the high-accuracy [Partridge-Schwenke fits](10.1063/1.473987).\n"
   ]
  },
  {
   "cell_type": "code",
   "execution_count": null,
   "metadata": {},
   "outputs": [],
   "source": [
    "frames = ase.io.read(\"data/water-dipoles.xyz\", \":\")"
   ]
  },
  {
   "cell_type": "code",
   "execution_count": null,
   "metadata": {},
   "outputs": [],
   "source": [
    "chemiscope.show(\n",
    "    frames,\n",
    "    settings={\n",
    "        \"map\": {\n",
    "            \"x\": {\"property\": \"HOH\"},\n",
    "            \"y\": {\"property\": \"OH1\"},\n",
    "            \"color\": {\"property\": \"energy\"},\n",
    "        },\n",
    "        \"structure\": [{\"axes\": \"xyz\", \"keepOrientation\": True}],\n",
    "    },\n",
    ")"
   ]
  },
  {
   "cell_type": "markdown",
   "metadata": {},
   "source": [
    "Processes the properties of the structures (as stored in the `.xyz` file) as `TensorBlock` objects. We will see later how these can be used.\n"
   ]
  },
  {
   "cell_type": "code",
   "execution_count": null,
   "metadata": {},
   "outputs": [],
   "source": [
    "energy_values = []\n",
    "force_values = []\n",
    "dipole_values = []\n",
    "for f in frames:\n",
    "    energy_values.append(f.info[\"energy\"])\n",
    "    dipole_values.append(f.info[\"dipole\"])\n",
    "    force_values.append(f.arrays[\"force\"])\n"
   ]
  },
  {
   "cell_type": "code",
   "execution_count": null,
   "metadata": {},
   "outputs": [],
   "source": [
    "energies = TensorBlock(\n",
    "    values=np.array(energy_values).reshape(-1, 1),\n",
    "    samples=Labels(\n",
    "        names=[\"structure\"],\n",
    "        values=np.array([[i] for i in range(len(frames))], dtype=np.int32),\n",
    "    ),\n",
    "    components=[],\n",
    "    properties=Labels(names=[\"energy\"], values=np.array([[1]], dtype=np.int32)),\n",
    ")\n",
    "\n",
    "energies.add_gradient(\n",
    "    \"positions\",\n",
    "    data=-np.array(force_values).reshape(-1, 3, 1),\n",
    "    samples=Labels(\n",
    "        names=[\"sample\", \"atom\"],\n",
    "        values=np.array(\n",
    "            [\n",
    "                [structure_i, atom]\n",
    "                for structure_i, structure in enumerate(frames)\n",
    "                for atom in range(len(structure))\n",
    "            ],\n",
    "            dtype=np.int32,\n",
    "        ),\n",
    "    ),\n",
    "    components=[\n",
    "        Labels(names=[\"direction\"], values=np.array([[0], [1], [2]], dtype=np.int32)),\n",
    "    ],\n",
    ")\n"
   ]
  },
  {
   "cell_type": "code",
   "execution_count": null,
   "metadata": {},
   "outputs": [],
   "source": [
    "dipoles = TensorBlock(\n",
    "    values=np.array(dipole_values).reshape(-1, 3, 1),\n",
    "    samples=Labels(\n",
    "        names=[\"structure\"],\n",
    "        values=np.array([[i] for i in range(len(frames))], dtype=np.int32),\n",
    "    ),\n",
    "    components=[\n",
    "        Labels(names=[\"direction\"], values=np.array([[0], [1], [2]], dtype=np.int32)),\n",
    "    ],\n",
    "    properties=equistore.labels.Labels.single(),\n",
    ")\n"
   ]
  },
  {
   "cell_type": "markdown",
   "metadata": {},
   "source": [
    "# Rotations and vectors\n"
   ]
  },
  {
   "cell_type": "markdown",
   "metadata": {},
   "source": [
    "Let's now start looking into how a vector such as the dipole moment rotates. The key concept is that a vectorial property such as the atomic positions or the dipole moment transform, under the action of a rotation operation $\\hat{R}$ in a way consistent with the application of a rotation matrix $\\mathbf{R}$, i.e. if a structure $A$ has atomic positions $\\mathbf{r}_i$ and dipole moment $\\mathbf{y}_i$ (each of these being a 3-vector corresponding to the Cartesian coordinates $(x,y,z)$) then the rotated structure $\\hat{R}A$ has atomic coordinates $\\mathbf{R}\\mathbf{r}_i$ and dipole moment $\\mathbf{R}\\mathbf{y}$.\n",
    "\n",
    "<img src=\"figures/rotations.png\" width=\"400\"/>\n"
   ]
  },
  {
   "cell_type": "markdown",
   "metadata": {},
   "source": [
    "A rotation can be defined in terms of [Euler angles](https://en.wikipedia.org/wiki/Euler_angles), a set of three angles $(\\alpha, \\beta, \\gamma)$ that define the orientation of a rigid body relative to a reference frame. This is a problem that is made quite tricky by the existence of dozen of alternative conventions. For those in the know, we use the $ZYZ$ intrinsic rotations definition, which is also the one commonly used to define quantities in angular momentum theory. We use a wrapper from some utilities that returns the rotation matrix in the \"correct\" format, and use it to generate a set of water molecules in which the position of the atoms and the molecular dipoles have been rotated appropriately.\n"
   ]
  },
  {
   "cell_type": "code",
   "execution_count": null,
   "metadata": {},
   "outputs": [],
   "source": [
    "from utils.rotations import rotation_matrix, wigner_d_real\n",
    "from utils.rotations import xyz_to_spherical, spherical_to_xyz\n",
    "from utils.clebsh_gordan import ClebschGordanReal\n"
   ]
  },
  {
   "cell_type": "code",
   "execution_count": null,
   "metadata": {},
   "outputs": [],
   "source": [
    "rotated_structures = []\n",
    "rotated_wdipole = []\n",
    "selected_frame = frames[81]\n",
    "selected_dipole = dipoles.values[81, :, 0]\n",
    "# adds two fake atoms to show the magnitude and direction of the dipole moment\n",
    "dipole_mol = ase.Atoms(\"FH\", positions=[[0, 2, 0], selected_dipole + [0, 2, 0]])\n",
    "for alpha in np.linspace(0, 2 * np.pi, 8):\n",
    "    for beta in np.linspace(0, np.pi, 4):\n",
    "        for gamma in np.linspace(0, 2 * np.pi, 8):\n",
    "            rot_frame = selected_frame.copy()\n",
    "            rot_frame.info[\"alpha\"] = alpha\n",
    "            rot_frame.info[\"beta\"] = beta\n",
    "            rot_frame.info[\"gamma\"] = gamma\n",
    "            # rotates the frame\n",
    "            R = rotation_matrix(alpha, beta, gamma)\n",
    "            rot_frame.positions = rot_frame.positions @ R.T\n",
    "            rot_frame.cell = rot_frame.cell @ R.T\n",
    "            rot_frame.info[\"dipole\"] = rot_frame.info[\"dipole\"] @ R.T\n",
    "            rotated_structures.append(rot_frame)\n",
    "\n",
    "            # just for visualization, frames with dipole visualized as HF\n",
    "            rot_frame = selected_frame.copy() + dipole_mol\n",
    "            rot_frame.positions = rot_frame.positions @ R.T\n",
    "            rot_frame.cell = rot_frame.cell @ R.T\n",
    "            rot_frame.info.update(dict(alpha=alpha, beta=beta, gamma=gamma))\n",
    "            rotated_wdipole.append(rot_frame)\n"
   ]
  },
  {
   "cell_type": "code",
   "execution_count": null,
   "metadata": {},
   "outputs": [],
   "source": [
    "chemiscope.show(\n",
    "    rotated_wdipole,\n",
    "    settings={\n",
    "        \"map\": {\n",
    "            \"x\": {\"property\": \"alpha\"},\n",
    "            \"y\": {\"property\": \"beta\"},\n",
    "            \"z\": {\"property\": \"gamma\"},\n",
    "            \"color\": {\"property\": \"energy\"},\n",
    "        },\n",
    "        \"structure\": [{\"axes\": \"xyz\", \"keepOrientation\": True}],\n",
    "    },\n",
    ")"
   ]
  },
  {
   "cell_type": "markdown",
   "metadata": {},
   "source": [
    "<a id=\"spherical-tensors\"> </a>\n"
   ]
  },
  {
   "cell_type": "markdown",
   "metadata": {},
   "source": [
    "# Rotations and arbitrary tensors\n"
   ]
  },
  {
   "cell_type": "markdown",
   "metadata": {},
   "source": [
    "Vectorial quantities such as are just one of the possible types of equivariant properties associated with a molecular structure. We consider as an example the tensor\n",
    "\n",
    "$$\n",
    "\\mathbf{Y} = \\mathbf{y}\\mathbf{y}^T + |\\mathbf{y}|^2 \\mathbf{1},\n",
    "$$\n",
    "\n",
    "built starting from the dipole moment $\\mathbf{y}$.\n"
   ]
  },
  {
   "cell_type": "code",
   "execution_count": null,
   "metadata": {},
   "outputs": [],
   "source": [
    "def y_to_Y(y):\n",
    "    return y.reshape(-1, 1) @ y.reshape(1, -1) + (y @ y) * np.eye(3)"
   ]
  },
  {
   "cell_type": "code",
   "execution_count": null,
   "metadata": {},
   "outputs": [],
   "source": [
    "for rot_frame in rotated_structures:\n",
    "    rot_frame.info[\"Y\"] = y_to_Y(rot_frame.info[\"dipole\"])"
   ]
  },
  {
   "cell_type": "markdown",
   "metadata": {},
   "source": [
    "This quantity transforms under rotation as $\\mathbf{Y}(\\hat{R}A) = \\mathbf{R}\\mathbf{Y}(A)\\mathbf{R}^T$.\n",
    "While this is a perfectly fine way of expressing the transformation, it is more complicated than necessary: all the $9$ components of $\\mathbf{Y}$ are formally mixed in the process, and even though it is linear in $\\mathbf{Y}$, to explicitly cast it as such requires combining the two multiplications by $\\mathbf{R}$ into the multiplication by a large, $9\\times 9$ matrix.\n"
   ]
  },
  {
   "cell_type": "code",
   "execution_count": null,
   "metadata": {},
   "outputs": [],
   "source": [
    "# picks one of the rotated structures\n",
    "base = rotated_structures[0]\n",
    "selected = rotated_structures[11]\n",
    "base_Y = base.info[\"Y\"]\n",
    "selected_Y = selected.info[\"Y\"]\n",
    "# builds the rotation matrix\n",
    "R = rotation_matrix(\n",
    "    selected.info[\"alpha\"], selected.info[\"beta\"], selected.info[\"gamma\"]\n",
    ")"
   ]
  },
  {
   "cell_type": "code",
   "execution_count": null,
   "metadata": {},
   "outputs": [],
   "source": [
    "print(base_Y)\n",
    "# rotated Y matches the Y of the rotated structure\n",
    "print(R @ base_Y @ R.T)\n",
    "print(selected_Y)"
   ]
  },
  {
   "cell_type": "code",
   "execution_count": null,
   "metadata": {},
   "outputs": [],
   "source": [
    "# builds the 9x9 rotation matrix - can you follow the index juggling?\n",
    "flat_idx = np.array(\n",
    "    [(0, 0), (0, 1), (0, 2), (1, 0), (1, 1), (1, 2), (2, 0), (2, 1), (2, 2)], dtype=int\n",
    ")\n",
    "RR = R[flat_idx[:, 0]][:, flat_idx[:, 0]] * R[flat_idx[:, 1]][:, flat_idx[:, 1]]"
   ]
  },
  {
   "cell_type": "code",
   "execution_count": null,
   "metadata": {},
   "outputs": [],
   "source": [
    "# the 9x9 matrix is almost entirely full\n",
    "plt.matshow(\n",
    "    RR,\n",
    "    cmap=plt.cm.RdBu,\n",
    "    vmin=-max(np.abs(RR.flatten())),\n",
    "    vmax=max(np.abs(RR.flatten())),\n",
    ")"
   ]
  },
  {
   "cell_type": "code",
   "execution_count": null,
   "metadata": {},
   "outputs": [],
   "source": [
    "# this rotates the tensor with a single multiplication\n",
    "(RR @ (base_Y[flat_idx[:, 0], flat_idx[:, 1]])).reshape(3, 3)"
   ]
  },
  {
   "cell_type": "markdown",
   "metadata": {},
   "source": [
    "This brings us to the concept of _irreducible_ representations of the rotation group. In very hand-wavy terms, we look for ways to simplify the transformation by recombining entries in $\\mathbf{Y}$ in such a way that they are less mixed up when acted upon by a rotation $\\hat{R}$.\n",
    "That this might be possible can be seen by noticing that the _trace_ of $\\mathbf{Y}$, $Y_{xx}+Y_{yy}+ Y_{zz}$ is left unchanged by the rotation - it is _invariant_.\n"
   ]
  },
  {
   "cell_type": "code",
   "execution_count": null,
   "metadata": {},
   "outputs": [],
   "source": [
    "print(np.trace(base_Y), np.trace(selected_Y))"
   ]
  },
  {
   "cell_type": "markdown",
   "metadata": {},
   "source": [
    "It turns out that products of Cartesian coordinates can be rearranged into blocks that transform under rotation as _spherical harmonics_, $Y^m_l$. The theory is not entirely trivial, and gets even messier if (as we do here) one wants to express everything in terms of _real_ spherical harmonics.\n",
    "The manipulations here are somewhat opaque (and rely heavily on utility functions) but allow to follow the construction of the _spherical tensor_ form of $\\mathbf{Y}$.\n"
   ]
  },
  {
   "cell_type": "code",
   "execution_count": null,
   "metadata": {},
   "outputs": [],
   "source": [
    "# we need Clebsch-Gordan coefficients to transform the Cartesian tensor into an irreducible form\n",
    "cg = ClebschGordanReal(l_max=2)\n",
    "cg.couple(xyz_to_spherical(base_Y))"
   ]
  },
  {
   "cell_type": "markdown",
   "metadata": {},
   "source": [
    "The output indicates that the tensor was built as the product of two vector-like ($l=1$) spherical Harmonics, and it has been decomposed into a scalar ($l=0$), pseudo-vector ($l=1$, zero because the tensor is symmetric), and higher-order ($l=2$) term. Each block contains $2m+1$ components. We can therefore stack these in a a single array with 9 components, that could (in principle) be written as a unitary transformation of the initial Cartesian form.\n"
   ]
  },
  {
   "cell_type": "code",
   "execution_count": null,
   "metadata": {},
   "outputs": [],
   "source": [
    "def to_coupled(cartesian):\n",
    "    coupled = cg.couple(xyz_to_spherical(cartesian))\n",
    "    return np.hstack([coupled[(1, 1)][l] for l in [0, 1, 2]])\n",
    "\n",
    "\n",
    "base_coupled_Y = to_coupled(base_Y)\n",
    "selected_coupled_Y = to_coupled(selected_Y)\n",
    "# note that elements [1:4] are zero: this is a consequence of the symmetry of Y\n",
    "print(base_coupled_Y)\n",
    "print(selected_coupled_Y)"
   ]
  },
  {
   "cell_type": "markdown",
   "metadata": {},
   "source": [
    "Compare the $9\\times 9$ matrix above with that associated with rotating the tensor in this new basis. Each of the irreducible blocks transform separately, so the rotation matrix is block-diagonal. _Any_ Cartesian tensor can be expressed in terms of a collection of $Y^m_l$-like irreducible blocks.\n"
   ]
  },
  {
   "cell_type": "code",
   "execution_count": null,
   "metadata": {},
   "outputs": [],
   "source": [
    "# the rotation matrix for the irreducible form can be built from a collection\n",
    "# of (real-valued) Wigner D matrices\n",
    "coupled_RR = np.zeros((9, 9))\n",
    "\n",
    "coupled_RR[0, 0] = wigner_d_real(\n",
    "    0, selected.info[\"alpha\"], selected.info[\"beta\"], selected.info[\"gamma\"]\n",
    ")\n",
    "\n",
    "coupled_RR[1:4, 1:4] = wigner_d_real(\n",
    "    1, selected.info[\"alpha\"], selected.info[\"beta\"], selected.info[\"gamma\"]\n",
    ")\n",
    "\n",
    "coupled_RR[4:9, 4:9] = wigner_d_real(\n",
    "    2, selected.info[\"alpha\"], selected.info[\"beta\"], selected.info[\"gamma\"]\n",
    ")"
   ]
  },
  {
   "cell_type": "code",
   "execution_count": null,
   "metadata": {},
   "outputs": [],
   "source": [
    "# the 9x9 matrix is block diagonal\n",
    "plt.matshow(\n",
    "    coupled_RR,\n",
    "    cmap=plt.cm.RdBu,\n",
    "    vmin=-max(np.abs(RR.flatten())),\n",
    "    vmax=max(np.abs(RR.flatten())),\n",
    ")"
   ]
  },
  {
   "cell_type": "code",
   "execution_count": null,
   "metadata": {},
   "outputs": [],
   "source": [
    "# this block-diagonal matrix performs a rotation in the irreducible spherical basis\n",
    "print(base_coupled_Y)\n",
    "print(coupled_RR @ base_coupled_Y)\n",
    "print(selected_coupled_Y)"
   ]
  },
  {
   "cell_type": "markdown",
   "metadata": {},
   "source": [
    "The transformation can be reverted to bring the tensor back to its Cartesian form\n"
   ]
  },
  {
   "cell_type": "code",
   "execution_count": null,
   "metadata": {},
   "outputs": [],
   "source": [
    "coupled = {\n",
    "    (1, 1): {\n",
    "        0: selected_coupled_Y[:1],\n",
    "        1: selected_coupled_Y[1:4],\n",
    "        2: selected_coupled_Y[4:9],\n",
    "    }\n",
    "}\n",
    "spherical_to_xyz(cg.decouple(coupled))"
   ]
  },
  {
   "cell_type": "markdown",
   "metadata": {},
   "source": [
    "# Density expansion coefficients\n"
   ]
  },
  {
   "cell_type": "markdown",
   "metadata": {},
   "source": [
    "We now move on to discuss how to describe an atomic environment using expansion coefficients of the atomic density. In short, the idea is to start describing a molecule $A$ in terms of localized functions (e.g. Gaussians) centered on each atom $i$, \"labelled\" by their chemical nature $a$\n",
    "\n",
    "$$\n",
    "\\langle a \\mathbf{x} | A; \\rho\\rangle = \\sum_{i \\in A} \\delta_{a a_i} \\langle \\mathbf{x} | \\mathbf{r}_i \\rangle.\n",
    "$$\n",
    "\n",
    "We use the notation $\\langle \\mathbf{x} | \\mathbf{r}_i \\rangle = g(\\mathbf{x}-\\mathbf{r}_i)$ to emphasize how the full structure is built as a sum of terms that describe individual atoms. In general terms, in analogy with the Dirac notation used to describe a quantum state, the notation $\\langle q | A\\rangle$ to indicate a descriptor $| A\\rangle$ for an entity $A$, discretized in a basis that is enumerated by the index $q$.\n",
    "See Section 3.1 of [this review](https://doi.org/10.1021/acs.chemrev.1c00021) for a gentler introduction.\n"
   ]
  },
  {
   "cell_type": "markdown",
   "metadata": {},
   "source": [
    "This density is then symmetrized with respect to translations (reflecting the fact that atomic properties are invariant to rigid translations of a molecule) which leads to expressing the structure descriptors as a sum of descriptors of _atom centered environments_ $A_i$,\n",
    "\n",
    "$$\n",
    "\\langle a \\mathbf{x} | \\rho_i\\rangle = \\sum_{j \\in A_i} \\delta_{a a_j} \\langle \\mathbf{x} | \\mathbf{r}_{ji} \\rangle.\n",
    "$$\n",
    "\n",
    "where the Gaussians are evaluated at the interatomic distance vectors $\\mathbf{r}_{ji}=\\mathbf{r}_j-\\mathbf{r}_i$.\n"
   ]
  },
  {
   "cell_type": "markdown",
   "metadata": {},
   "source": [
    "To manipulate this atom-centered density, it is more convenient to express it on a discrete basis. Again, in analogy with what is done routinely in quantum chemistry for the electron wafefunction (or density) we use a basis of radial functions $R_{nl}(x) \\equiv \\langle x||nl\\rangle$ and spherical harmonics $Y^m_{l}(\\hat{\\mathbf{x}}) \\equiv \\langle \\hat{\\mathbf{x}}|lm\\rangle$\n",
    "\n",
    "$$\n",
    "\\langle a nlm | \\rho_i\\rangle = \\int \\mathrm{d}\\mathbf{x}\n",
    " \\langle nl| x\\rangle  \\langle lm| \\hat{\\mathbf{x}} \\rangle\n",
    "\\langle a \\mathbf{x} | \\rho_i\\rangle\n",
    "$$\n"
   ]
  },
  {
   "cell_type": "markdown",
   "metadata": {},
   "source": [
    "## Computing descriptors with _rascaline_ and _equistore_\n"
   ]
  },
  {
   "cell_type": "markdown",
   "metadata": {},
   "source": [
    "We use `rascaline` to compute the density expansion coefficients for these water molecule structures.\n",
    "The coefficients are returned as a `equistore.TensorMap` object, that reflects some of the considerations discussed above on the structure of atom-centered density features\n"
   ]
  },
  {
   "cell_type": "code",
   "execution_count": null,
   "metadata": {},
   "outputs": [],
   "source": [
    "hypers = {\n",
    "    \"cutoff\": 2.0,\n",
    "    \"max_radial\": 6,\n",
    "    \"max_angular\": 4,\n",
    "    \"atomic_gaussian_width\": 0.2,\n",
    "    \"radial_basis\": {\"Gto\": {}},\n",
    "    \"cutoff_function\": {\"ShiftedCosine\": {\"width\": 0.5}},\n",
    "    \"center_atom_weight\": 1.0,\n",
    "    \"gradients\": False,\n",
    "}\n",
    "\n",
    "calculator = SphericalExpansion(**hypers)\n",
    "\n",
    "descriptor = calculator.compute(frames)"
   ]
  },
  {
   "cell_type": "markdown",
   "metadata": {},
   "source": [
    "A `TensorMap` object works as a container that holds blocks of data. The pattern is reminiscent of a `dict`, but with some more structure and metadata: each block is associated with a _key_, which consists in a tuple of ints. The set of keys is a `equistore.Labels` object, that also keeps track of the _names_ that describe each index in the key.\n",
    "\n",
    "The expansion keys hold the `spherical_harmonics_l index`, and two indices corresponding to the atomic number of the central atom `species_center` and of the neighbors `species_neighbor`.\n"
   ]
  },
  {
   "cell_type": "code",
   "execution_count": null,
   "metadata": {},
   "outputs": [],
   "source": [
    "descriptor.keys"
   ]
  },
  {
   "cell_type": "markdown",
   "metadata": {},
   "source": [
    "Each block is associated to a `equistore.TensorBlock` object. Each block is associated with a dense tensor with a `samples` direction (enumerating the items that are described) a `properties` direction (enumerating actual properties, or descriptors) and zero or more `components` - typical examples would be the Cartesian coordinates of a vector, or the $m$ index in spherical harmonics. Each is associated with a `Labels` object that stores metadata that describe the entries.\n"
   ]
  },
  {
   "cell_type": "code",
   "execution_count": null,
   "metadata": {},
   "outputs": [],
   "source": [
    "# this is l=2, central atom is O and neighbor is H\n",
    "block = descriptor.block(spherical_harmonics_l=2, species_center=8, species_neighbor=1)"
   ]
  },
  {
   "cell_type": "code",
   "execution_count": null,
   "metadata": {},
   "outputs": [],
   "source": [
    "block.samples"
   ]
  },
  {
   "cell_type": "code",
   "execution_count": null,
   "metadata": {},
   "outputs": [],
   "source": [
    "block.properties"
   ]
  },
  {
   "cell_type": "code",
   "execution_count": null,
   "metadata": {},
   "outputs": [],
   "source": [
    "block.components"
   ]
  },
  {
   "cell_type": "markdown",
   "metadata": {},
   "source": [
    "Depending on the type of system or application, some indices might be stored more conveniently as samples, properties, components, or as sparse keys. _equistore_ provides utility functions to reorder the data for more convenient manipulation. For instance, in this case all atoms have the same type of neighbors, and so it does not make sense to use sparse storage for the neighbor element index. We can move the index from keys to properties:\n"
   ]
  },
  {
   "cell_type": "code",
   "execution_count": null,
   "metadata": {},
   "outputs": [],
   "source": [
    "descriptor.keys_to_properties(\"species_neighbor\")"
   ]
  },
  {
   "cell_type": "code",
   "execution_count": null,
   "metadata": {},
   "outputs": [],
   "source": [
    "descriptor.keys"
   ]
  },
  {
   "cell_type": "code",
   "execution_count": null,
   "metadata": {},
   "outputs": [],
   "source": [
    "descriptor.block(0).properties"
   ]
  },
  {
   "cell_type": "markdown",
   "metadata": {},
   "source": [
    "## Equivariance of the descriptors\n"
   ]
  },
  {
   "cell_type": "markdown",
   "metadata": {},
   "source": [
    "Let's now see how the density coefficients actually behave as equivariant descriptors. This is kind of obvious given that we build them by expanding the density on a basis of spherical harmonics! Here we compute descriptors for two of the rotated structures, and see how the same result can be achieved by applying the rotation to the base molecule using a Wigner-D matrix.\n"
   ]
  },
  {
   "cell_type": "code",
   "execution_count": null,
   "metadata": {},
   "outputs": [],
   "source": [
    "base_descriptor = calculator.compute([base])\n",
    "selected_descriptor = calculator.compute([selected])"
   ]
  },
  {
   "cell_type": "code",
   "execution_count": null,
   "metadata": {},
   "outputs": [],
   "source": [
    "base_descriptor.keys_to_properties(\"species_neighbor\")\n",
    "selected_descriptor.keys_to_properties(\"species_neighbor\")"
   ]
  },
  {
   "cell_type": "code",
   "execution_count": null,
   "metadata": {},
   "outputs": [],
   "source": [
    "base_block = base_descriptor.block(spherical_harmonics_l=2, species_center=8)\n",
    "selected_block = selected_descriptor.block(spherical_harmonics_l=2, species_center=8)"
   ]
  },
  {
   "cell_type": "code",
   "execution_count": null,
   "metadata": {},
   "outputs": [],
   "source": [
    "selected_block.values"
   ]
  },
  {
   "cell_type": "code",
   "execution_count": null,
   "metadata": {},
   "outputs": [],
   "source": [
    "wd = wigner_d_real(\n",
    "    2, selected.info[\"alpha\"], selected.info[\"beta\"], selected.info[\"gamma\"]\n",
    ")"
   ]
  },
  {
   "cell_type": "code",
   "execution_count": null,
   "metadata": {},
   "outputs": [],
   "source": [
    "wd @ base_block.values[0]"
   ]
  },
  {
   "cell_type": "markdown",
   "metadata": {},
   "source": [
    "In light of this, we can see density coefficients as _symmetry adapted_ descriptors. To emphasize their equivariant behavior, and that they reflect the distribution of neighbors by summing over them one of a time, we indicate the coefficients as\n",
    "\n",
    "$$\n",
    "\\langle an|\\overline{\\rho_i^{\\otimes 1}; \\lambda \\mu }\\rangle \\equiv\n",
    "\\langle an\\lambda \\mu|\\rho_i\\rangle\n",
    "$$\n"
   ]
  },
  {
   "cell_type": "markdown",
   "metadata": {},
   "source": [
    "# Atom-centered density correlations\n"
   ]
  },
  {
   "cell_type": "markdown",
   "metadata": {},
   "source": [
    "The density expansion coefficients can be regarded as the simplest possible form of an equivariant descriptor built based on the neighbor density. The invariant part, $\\langle an|\\overline{\\rho_i^{\\otimes 1}; 00 }\\rangle$ corresponds to a discretization of the pair correlation function: using a real-space basis,\n",
    "\n",
    "$$\n",
    "    \\langle ax|\\overline{\\rho_i^{\\otimes 1}; 00 }\\rangle \\approx \\sum_{j\\in A_i} \\delta_{a a_j} \\langle x | r_{ji} \\rangle\n",
    "$$\n",
    "\n",
    "where $ \\langle x | r*{ji} \\rangle $ is a localized function centered on $r*{ji}$.\n"
   ]
  },
  {
   "cell_type": "markdown",
   "metadata": {},
   "source": [
    "In order to obtain a richer description of the atomic environment it is possible to combine several copies of $\\langle a\\mathbf{x} | \\rho_i \\rangle$, to build $\\nu$-neighbors atom-centered density correlations (ACDCs).\n",
    "The formalism we use was introduced by [Willatt et al.](https://doi.org/10.1063/1.5090481), and is explained in detail, discussing its relation with the leading frameworks for atomistic machine learning, in a [review by Musil et al.](https://doi.org/10.1021/acs.chemrev.1c00021)\n",
    "\n",
    "Essentially, the idea is that considering tensor products of the atom density provides simultaneous information on the mutual position of several neighbors\n",
    "\n",
    "$$\n",
    "\\langle \\mathbf{x} |  \\rho_i \\rangle \\langle \\mathbf{x}' |  \\rho_i \\rangle =\n",
    "\\sum_{jj'\\in A_i}\n",
    "\\langle \\mathbf{x} |\\mathbf{r}_{ji} \\rangle \\langle \\mathbf{x}' |\\mathbf{r}_{j'i} \\rangle.\n",
    "$$\n",
    "\n",
    "Much like for the case of [Cartesian tensors](#spherical-tensors), these tensor products can be re-cast in terms of irreducible representations of the O(3) (rotations + inversion) group. A (comparatively) simple and efficient way to obtain these equivariant ACDC features is to build them iteratively, as discussed e.g. by [Nigam et al. ](https://doi.org/10.1063/5.0021116), using an expression that corresponds to the combination of angular momenta in quantum mechanics using Clebsch-Gordan coefficients $\\langle k m_1\\  l m_2 | \\lambda \\mu \\rangle$.\n",
    "\n",
    "$$\n",
    "\\langle q k;  a n l|\\overline{\\rho_i^{\\otimes (\\nu+1)}; \\sigma (-1)^{l+k+\\lambda};  \\lambda \\mu } \\rangle =\n",
    "\\sum_{m_1 m_2}\n",
    "\\langle q |\\overline{\\rho_i^{\\otimes \\nu}; k m_1 } \\rangle\n",
    "\\langle a n|\\overline{\\rho_i^{\\otimes 1}; \\sigma l m_2 } \\rangle\n",
    "\\langle k m_1\\  l m_2 | \\lambda \\mu \\rangle.\n",
    "$$\n",
    "\n",
    "The additional index $\\sigma$ in the ket $|\\sigma; \\lambda \\mu>$ takes the values $\\pm 1$ and tracks the parity of the descriptors with respect to inversion (all the $\\nu=1$ equivariants have a parity $+1$, which means that they pick up a phase $(-1)^\\lambda$ under inversion).\n"
   ]
  },
  {
   "cell_type": "markdown",
   "metadata": {},
   "source": [
    "## Computing $\\nu=2$ equivariants ($\\lambda$-SOAP)\n"
   ]
  },
  {
   "cell_type": "markdown",
   "metadata": {},
   "source": [
    "This is a lot to take in, so let's see how this is realized in a practical case. First, we convert the descriptors in a standardized form (the combination routines use the metadata in TensorMap to generate the right combinations).\n"
   ]
  },
  {
   "cell_type": "code",
   "execution_count": null,
   "metadata": {},
   "outputs": [],
   "source": [
    "from utils.acdc import acdc_standardize_keys, cg_increment"
   ]
  },
  {
   "cell_type": "code",
   "execution_count": null,
   "metadata": {},
   "outputs": [],
   "source": [
    "# precompute the C-G coefficients so they can be reused. we need to go up to l_max*2\n",
    "cg = ClebschGordanReal(l_max=hypers[\"max_angular\"])"
   ]
  },
  {
   "cell_type": "code",
   "execution_count": null,
   "metadata": {},
   "outputs": [],
   "source": [
    "# this enforces a consistent naming convention for the various components\n",
    "acdc_nu1 = acdc_standardize_keys(descriptor)"
   ]
  },
  {
   "cell_type": "code",
   "execution_count": null,
   "metadata": {},
   "outputs": [],
   "source": [
    "# and this makes sure that all blocks have the same size,\n",
    "# by merging blocks associated with different central atoms\n",
    "acdc_nu1.keys_to_samples(\"species_center\")"
   ]
  },
  {
   "cell_type": "code",
   "execution_count": null,
   "metadata": {},
   "outputs": [],
   "source": [
    "acdc_nu1.keys"
   ]
  },
  {
   "cell_type": "code",
   "execution_count": null,
   "metadata": {},
   "outputs": [],
   "source": [
    "acdc_nu1.block(spherical_harmonics_l=1).properties"
   ]
  },
  {
   "cell_type": "markdown",
   "metadata": {},
   "source": [
    "... then we call the C-G combination using a utility subroutine. The combinations generate more blocks (some with even and some with odd inversion parity, and potentially up to twice the maximum $l$ in the inputs), and for each block many more features (the full tensor product of species and radial functions, as well as angular momentum labels). This function computes ALL combinations (up to an equivariant cutoff `lcut`), which is very wasteful because many combinations are linearly dependent.\n"
   ]
  },
  {
   "cell_type": "code",
   "execution_count": null,
   "metadata": {},
   "outputs": [],
   "source": [
    "acdc_nu2 = cg_increment(\n",
    "    acdc_nu1, acdc_nu1, clebsch_gordan=cg, lcut=hypers[\"max_angular\"]\n",
    ")"
   ]
  },
  {
   "cell_type": "code",
   "execution_count": null,
   "metadata": {},
   "outputs": [],
   "source": [
    "acdc_nu2.keys"
   ]
  },
  {
   "cell_type": "code",
   "execution_count": null,
   "metadata": {},
   "outputs": [],
   "source": [
    "acdc_nu2.block(0).properties.names"
   ]
  },
  {
   "cell_type": "markdown",
   "metadata": {},
   "source": [
    "## Equivariance of the higher-order descriptors\n"
   ]
  },
  {
   "cell_type": "markdown",
   "metadata": {},
   "source": [
    "Let's now see how the density coefficients actually behave as equivariant descriptors. This is kind of obvious given that we build them by expanding the density on a basis of spherical harmonics! Here we compute descriptors for two of the rotated structures, and see how the same result can be achieved by applying the rotation to the base molecule using a Wigner-D matrix.\n"
   ]
  },
  {
   "cell_type": "code",
   "execution_count": null,
   "metadata": {},
   "outputs": [],
   "source": [
    "test_descriptors = calculator.compute([base, selected])\n",
    "test_descriptors.keys_to_properties(\"species_neighbor\")\n",
    "test_nu1 = acdc_standardize_keys(test_descriptors)\n",
    "test_nu1.keys_to_samples(\"species_center\")\n",
    "test_nu2 = cg_increment(\n",
    "    test_nu1, test_nu1, clebsch_gordan=cg, lcut=hypers[\"max_angular\"]\n",
    ")"
   ]
  },
  {
   "cell_type": "code",
   "execution_count": null,
   "metadata": {},
   "outputs": [],
   "source": [
    "test_block = test_nu2.block(spherical_harmonics_l=3, inversion_sigma=1)"
   ]
  },
  {
   "cell_type": "code",
   "execution_count": null,
   "metadata": {},
   "outputs": [],
   "source": [
    "# for simplicity, we are computing all descriptors in one go,\n",
    "# so we fetch the block corresponding to the base and the rotated O\n",
    "test_base = test_block.values[test_block.samples.position((0, 0, 8))]\n",
    "test_selected = test_block.values[test_block.samples.position((1, 0, 8))]"
   ]
  },
  {
   "cell_type": "markdown",
   "metadata": {},
   "source": [
    "Recall that `selected` is a rigidly-rotated copy of the `base` molecule, so the features should correspond after being rotated with an appropriate Wigner matrix...\n"
   ]
  },
  {
   "cell_type": "code",
   "execution_count": null,
   "metadata": {},
   "outputs": [],
   "source": [
    "wd = wigner_d_real(\n",
    "    3, selected.info[\"alpha\"], selected.info[\"beta\"], selected.info[\"gamma\"]\n",
    ")"
   ]
  },
  {
   "cell_type": "code",
   "execution_count": null,
   "metadata": {},
   "outputs": [],
   "source": [
    "test_selected"
   ]
  },
  {
   "cell_type": "code",
   "execution_count": null,
   "metadata": {},
   "outputs": [],
   "source": [
    "wd @ test_base  # ... and they do match!"
   ]
  },
  {
   "cell_type": "markdown",
   "metadata": {},
   "source": [
    "# An equivariant ML model\n"
   ]
  },
  {
   "cell_type": "markdown",
   "metadata": {},
   "source": [
    "Now, let's see how we can use equivariant features to build an equivariant model that predicts the dipole of the water molecule. We will do so with linear regression, that reveals clearly the nature of the problem.\n",
    "It is interesting to note, that the algebraic structure of $O(3)$ means that in practice most equivariant models have a structure that is very close to that underlying the iterative construction of ACDCs.\n",
    "[Cormorant](https://proceedings.neurips.cc/paper/2019/file/03573b32b2746e6e8ca98b9123f2249b-Paper.pdf) and [Tensor Field Networks](http://arxiv.org/abs/1802.08219v3) are two examples of equivariant networks that effectively build linear combinations of $|\\overline{\\rho_i^{\\otimes \\nu}; \\sigma;  \\lambda \\mu }\\rangle$ features, and pretty much all other schemes can be regarded as injecting non-linearities in the form of multipliers that depend only on scalar descriptors. See [Nigam et al.](https://aip.scitation.org/doi/10.1063/5.0087042) for a formal discussion of the analogies and differences between ACDCs and alternative schemes.\n"
   ]
  },
  {
   "cell_type": "markdown",
   "metadata": {},
   "source": [
    "A linear model for a tensorial property $y^\\mu_\\lambda$ (already expressed in its irreducible spherical form) can be readily built as\n",
    "\n",
    "$$\n",
    "\\tilde{y}^{\\sigma;\\lambda}_\\mu(A_i) \\approx \\sum_q w_q \\langle q|\\overline{\\rho_i^{\\otimes \\nu}; \\sigma;  \\lambda \\mu }\\rangle.\n",
    "$$\n",
    "\n",
    "It is essential that the weights depend on the feature weight, but not on the symmetry component $\\mu$: then,\n",
    "\n",
    "$$\n",
    "\\tilde{y}^{\\sigma;\\lambda}_\\mu(\\hat{R}A_i) \\approx \\sum_q w_q \\langle q|\\hat{R}\\overline{\\rho_i^{\\otimes \\nu}; \\sigma;  \\lambda \\mu }\\rangle = \\hat{R}y^{\\sigma;\\lambda}_\\mu(A_i),\n",
    "$$\n",
    "\n",
    "provided that $|\\overline{\\rho_i^{\\otimes \\nu}; \\sigma;  \\lambda \\mu }\\rangle$ is equivariant to $\\hat{R}$.\n"
   ]
  },
  {
   "cell_type": "markdown",
   "metadata": {},
   "source": [
    "By defining a $L^2$ loss in which one sums over the mean square error for all components $\\mu$ as well as the train set indices,\n",
    "\n",
    "$$\n",
    "\\ell = \\sum_{i\\mu} |\\tilde{y}^{\\sigma;\\lambda}_\\mu(A_i) - y^{\\sigma;\\lambda}_\\mu(A_i)|^2\n",
    "$$\n",
    "\n",
    "one sees that in order to build a linear regression scheme it is enough to treat the symmetry components as sample indices -- although one must pay attention to keep blocks associated with a given structure together when splitting the data set or performing cross-validation. This means one can use standard ridge regression from `sklearn`. Note it's important _not_ to fit an intercept, as that is incompatible with rotational symmetry: all $\\lambda>0$ tensor components must average to zero over rotations.\n"
   ]
  },
  {
   "cell_type": "code",
   "execution_count": null,
   "metadata": {},
   "outputs": [],
   "source": [
    "from sklearn.linear_model import Ridge"
   ]
  },
  {
   "cell_type": "code",
   "execution_count": null,
   "metadata": {},
   "outputs": [],
   "source": [
    "ridge = Ridge(alpha=1e-8, fit_intercept=False)"
   ]
  },
  {
   "cell_type": "code",
   "execution_count": null,
   "metadata": {},
   "outputs": [],
   "source": [
    "# uses only O as centers (simpler, there's just one sample per molecule)\n",
    "idx = np.where(\n",
    "    acdc_nu1.block(inversion_sigma=1, spherical_harmonics_l=1).samples[\"species_center\"]\n",
    "    == 8\n",
    ")[0]\n",
    "# try using acdc_nu1 as descriptors: performances are horrible because it does not hold info on the HOH angle!\n",
    "X = acdc_nu2.block(inversion_sigma=1, spherical_harmonics_l=1).values[idx]\n",
    "y = xyz_to_spherical(dipoles.values)\n",
    "ridge.fit(X[::2].reshape(-1, X.shape[-1]), y[::2].flatten())"
   ]
  },
  {
   "cell_type": "code",
   "execution_count": null,
   "metadata": {},
   "outputs": [],
   "source": [
    "yp = ridge.predict(X.reshape(-1, X.shape[-1])).reshape(-1, 3)"
   ]
  },
  {
   "cell_type": "code",
   "execution_count": null,
   "metadata": {},
   "outputs": [],
   "source": [
    "plt.plot(y[1::2].flatten(), yp[1::2].flatten(), \"r.\", label=\"test\")\n",
    "plt.plot(y[::2].flatten(), yp[::2].flatten(), \"b.\", label=\"train\")\n",
    "plt.xlabel(r\"$y_\\mu$ / eV/Å\")\n",
    "plt.ylabel(r\"$\\tilde{y}_\\mu$ / eV/Å\")\n",
    "plt.legend()"
   ]
  },
  {
   "cell_type": "markdown",
   "metadata": {},
   "source": [
    "Even though all structures in the train set lie in the $xy$ plane, the model predicts perfectly well the dipoles of arbitrarily oriented molecules.\n"
   ]
  },
  {
   "cell_type": "code",
   "execution_count": null,
   "metadata": {},
   "outputs": [],
   "source": [
    "rotated_descriptors = calculator.compute(rotated_structures)\n",
    "rotated_descriptors.keys_to_properties(\"species_neighbor\")\n",
    "rot_nu1 = acdc_standardize_keys(rotated_descriptors)\n",
    "rot_nu1.keys_to_samples(\"species_center\")\n",
    "rot_nu2 = cg_increment(rot_nu1, rot_nu1, clebsch_gordan=cg, lcut=hypers[\"max_angular\"])"
   ]
  },
  {
   "cell_type": "code",
   "execution_count": null,
   "metadata": {},
   "outputs": [],
   "source": [
    "idx = np.where(\n",
    "    rot_nu1.block(inversion_sigma=1, spherical_harmonics_l=1).samples[\"species_center\"]\n",
    "    == 8\n",
    ")[0]\n",
    "X = rot_nu2.block(inversion_sigma=1, spherical_harmonics_l=1).values[idx]\n",
    "rot_yp = spherical_to_xyz(ridge.predict(X.reshape(-1, X.shape[-1])).reshape(-1, 3))"
   ]
  },
  {
   "cell_type": "code",
   "execution_count": null,
   "metadata": {},
   "outputs": [],
   "source": [
    "rot_y = np.asarray([frame.info[\"dipole\"] for frame in rotated_structures])"
   ]
  },
  {
   "cell_type": "code",
   "execution_count": null,
   "metadata": {},
   "outputs": [],
   "source": [
    "plt.plot(rot_y.flatten(), rot_yp.flatten(), \"b.\")\n",
    "plt.xlabel(r\"$y_\\mu$ / eV/Å\")\n",
    "plt.ylabel(r\"$\\tilde{y}_\\mu$ / eV/Å\")\n",
    "plt.xlabel(r\"$y_\\alpha$ / eV/Å\")\n",
    "plt.ylabel(r\"$\\tilde{y}_\\alpha$ / eV/Å\")"
   ]
  },
  {
   "cell_type": "markdown",
   "metadata": {},
   "source": [
    "Let's look at how the predicted dipoles rotate with the molecule...\n"
   ]
  },
  {
   "cell_type": "code",
   "execution_count": null,
   "metadata": {},
   "outputs": [],
   "source": [
    "rotated_wdipolep = []\n",
    "dipole_mol = ase.Atoms(\"FH\", positions=[[0, 2, 0], selected_dipole + [0, 2, 0]])\n",
    "for i, f in enumerate(rotated_structures):\n",
    "    # for visualization purpose we display the dipole as an HF molecule - the origin must also be rotated, which we had done manually above\n",
    "    rotated_wdipolep.append(\n",
    "        f\n",
    "        + ase.Atoms(\n",
    "            \"FH\",\n",
    "            positions=[\n",
    "                rotated_wdipole[i].positions[3],\n",
    "                rotated_wdipole[i].positions[3] + rot_yp[i] * 2,\n",
    "            ],\n",
    "        )\n",
    "    )"
   ]
  },
  {
   "cell_type": "code",
   "execution_count": null,
   "metadata": {},
   "outputs": [],
   "source": [
    "chemiscope.show(\n",
    "    rotated_wdipolep,\n",
    "    settings={\n",
    "        \"map\": {\n",
    "            \"x\": {\"property\": \"alpha\"},\n",
    "            \"y\": {\"property\": \"beta\"},\n",
    "            \"z\": {\"property\": \"gamma\"},\n",
    "            \"color\": {\"property\": \"energy\"},\n",
    "        },\n",
    "        \"structure\": [{\"axes\": \"xyz\", \"keepOrientation\": True}],\n",
    "    },\n",
    ")"
   ]
  },
  {
   "cell_type": "code",
   "execution_count": null,
   "metadata": {},
   "outputs": [],
   "source": []
  },
  {
   "cell_type": "code",
   "execution_count": null,
   "metadata": {},
   "outputs": [],
   "source": []
  }
 ],
 "metadata": {
  "kernelspec": {
   "display_name": "Python 3 (ipykernel)",
   "language": "python",
   "name": "python3"
  },
  "language_info": {
   "codemirror_mode": {
    "name": "ipython",
    "version": 3
   },
   "file_extension": ".py",
   "mimetype": "text/x-python",
   "name": "python",
   "nbconvert_exporter": "python",
   "pygments_lexer": "ipython3",
   "version": "3.10.5"
  },
  "toc": {
   "base_numbering": 1,
   "nav_menu": {},
   "number_sections": true,
   "sideBar": true,
   "skip_h1_title": false,
   "title_cell": "Table of Contents",
   "title_sidebar": "Contents",
   "toc_cell": false,
   "toc_position": {
    "height": "calc(100% - 180px)",
    "left": "10px",
    "top": "150px",
    "width": "397px"
   },
   "toc_section_display": true,
   "toc_window_display": true
  },
  "vscode": {
   "interpreter": {
    "hash": "3684f64a821d79057c6dca1f4ae6d0ede5c6134fa08a761e76ccf53832f72d94"
   }
  }
 },
 "nbformat": 4,
 "nbformat_minor": 4
}
